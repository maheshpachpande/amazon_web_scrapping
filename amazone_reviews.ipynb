{
 "cells": [
  {
   "cell_type": "code",
   "execution_count": 6,
   "id": "7be1e4bb-1a6f-478e-a0a5-f7cefb3f6b32",
   "metadata": {},
   "outputs": [],
   "source": [
    "import pandas as pd \n",
    "from selenium import webdriver\n",
    "from bs4 import BeautifulSoup"
   ]
  },
  {
   "cell_type": "code",
   "execution_count": 7,
   "id": "cb14ea44-e943-4427-afc5-a4a572a785cf",
   "metadata": {},
   "outputs": [],
   "source": [
    "driver = webdriver.Chrome()"
   ]
  },
  {
   "cell_type": "code",
   "execution_count": 8,
   "id": "ce80eeb2-0254-47ce-91c7-807339a552d7",
   "metadata": {},
   "outputs": [],
   "source": [
    "driver.get('https://www.amazon.in/Apple-iPhone-15-128-GB/product-reviews/B0CHX1W1XY/ref=cm_cr_getr_d_paging_btm_next_10?ie=UTF8&reviewerType=all_reviews')"
   ]
  },
  {
   "cell_type": "code",
   "execution_count": 9,
   "id": "25f1e773-11de-4942-a34f-8553fb65d97f",
   "metadata": {},
   "outputs": [],
   "source": [
    "html_data = BeautifulSoup(driver.page_source, 'html.parser')"
   ]
  },
  {
   "cell_type": "code",
   "execution_count": 10,
   "id": "49c727f0-c9dd-4984-8b77-32e68418aa8b",
   "metadata": {},
   "outputs": [],
   "source": [
    "import time \n",
    "url = 'https://www.amazon.in' + html_data.find('li',{'class':'a-last'}).a['href']"
   ]
  },
  {
   "cell_type": "code",
   "execution_count": 11,
   "id": "37ce3afc-5ecc-484f-98b3-be774fe08e78",
   "metadata": {},
   "outputs": [
    {
     "name": "stdout",
     "output_type": "stream",
     "text": [
      "https://www.amazon.in/Apple-iPhone-15-128-GB/product-reviews/B0CHX1W1XY/ref=cm_cr_arp_d_paging_btm_2?ie=UTF8&pageNumber=2&reviewerType=all_reviews\n",
      "https://www.amazon.in/Apple-iPhone-15-128-GB/product-reviews/B0CHX1W1XY/ref=cm_cr_arp_d_paging_btm_3?ie=UTF8&pageNumber=3&reviewerType=all_reviews\n",
      "https://www.amazon.in/Apple-iPhone-15-128-GB/product-reviews/B0CHX1W1XY/ref=cm_cr_arp_d_paging_btm_4?ie=UTF8&pageNumber=4&reviewerType=all_reviews\n",
      "https://www.amazon.in/Apple-iPhone-15-128-GB/product-reviews/B0CHX1W1XY/ref=cm_cr_arp_d_paging_btm_5?ie=UTF8&pageNumber=5&reviewerType=all_reviews\n",
      "https://www.amazon.in/Apple-iPhone-15-128-GB/product-reviews/B0CHX1W1XY/ref=cm_cr_arp_d_paging_btm_6?ie=UTF8&pageNumber=6&reviewerType=all_reviews\n",
      "https://www.amazon.in/Apple-iPhone-15-128-GB/product-reviews/B0CHX1W1XY/ref=cm_cr_arp_d_paging_btm_7?ie=UTF8&pageNumber=7&reviewerType=all_reviews\n",
      "https://www.amazon.in/Apple-iPhone-15-128-GB/product-reviews/B0CHX1W1XY/ref=cm_cr_arp_d_paging_btm_8?ie=UTF8&pageNumber=8&reviewerType=all_reviews\n",
      "https://www.amazon.in/Apple-iPhone-15-128-GB/product-reviews/B0CHX1W1XY/ref=cm_cr_arp_d_paging_btm_9?ie=UTF8&pageNumber=9&reviewerType=all_reviews\n",
      "https://www.amazon.in/Apple-iPhone-15-128-GB/product-reviews/B0CHX1W1XY/ref=cm_cr_arp_d_paging_btm_10?ie=UTF8&pageNumber=10&reviewerType=all_reviews\n"
     ]
    },
    {
     "ename": "TypeError",
     "evalue": "'NoneType' object is not subscriptable",
     "output_type": "error",
     "traceback": [
      "\u001b[1;31m---------------------------------------------------------------------------\u001b[0m",
      "\u001b[1;31mTypeError\u001b[0m                                 Traceback (most recent call last)",
      "Cell \u001b[1;32mIn[11], line 31\u001b[0m\n\u001b[0;32m     28\u001b[0m     url \u001b[38;5;241m=\u001b[39m \u001b[38;5;28;01mNone\u001b[39;00m\n\u001b[0;32m     30\u001b[0m \u001b[38;5;28;01melse\u001b[39;00m:\n\u001b[1;32m---> 31\u001b[0m     url \u001b[38;5;241m=\u001b[39m \u001b[38;5;124m'\u001b[39m\u001b[38;5;124mhttps://www.amazon.in\u001b[39m\u001b[38;5;124m'\u001b[39m \u001b[38;5;241m+\u001b[39m \u001b[43mhtml_data\u001b[49m\u001b[38;5;241;43m.\u001b[39;49m\u001b[43mfind\u001b[49m\u001b[43m(\u001b[49m\u001b[38;5;124;43m'\u001b[39;49m\u001b[38;5;124;43mli\u001b[39;49m\u001b[38;5;124;43m'\u001b[39;49m\u001b[43m,\u001b[49m\u001b[43m{\u001b[49m\u001b[38;5;124;43m'\u001b[39;49m\u001b[38;5;124;43mclass\u001b[39;49m\u001b[38;5;124;43m'\u001b[39;49m\u001b[43m:\u001b[49m\u001b[38;5;124;43m'\u001b[39;49m\u001b[38;5;124;43ma-last\u001b[39;49m\u001b[38;5;124;43m'\u001b[39;49m\u001b[43m}\u001b[49m\u001b[43m)\u001b[49m\u001b[38;5;241;43m.\u001b[39;49m\u001b[43ma\u001b[49m\u001b[43m[\u001b[49m\u001b[38;5;124;43m'\u001b[39;49m\u001b[38;5;124;43mhref\u001b[39;49m\u001b[38;5;124;43m'\u001b[39;49m\u001b[43m]\u001b[49m\n\u001b[0;32m     32\u001b[0m \u001b[38;5;28mprint\u001b[39m(url)\n",
      "\u001b[1;31mTypeError\u001b[0m: 'NoneType' object is not subscriptable"
     ]
    }
   ],
   "source": [
    "i = 0\n",
    "names = []\n",
    "ratings = []\n",
    "rating_dates = []\n",
    "titles = []\n",
    "reviews_text = []\n",
    "while url != None:\n",
    "    i = i + 1\n",
    "    url = 'https://www.amazon.in/Apple-iPhone-15-128-GB/product-reviews/B0CHX1W1XY/ref=cm_cr_arp_d_paging_btm_next_2?ie=UTF8&reviewerType=all_reviews&pageNumber='+str(i)\n",
    "    driver.get(url)\n",
    "    time.sleep(5)\n",
    "    html_data = BeautifulSoup(driver.page_source, 'html.parser')\n",
    "    reviews = html_data.find_all('div',{'data-hook':'review'})\n",
    "    for review in reviews:\n",
    "        name = review.find('span',{'class':'a-profile-name'}).text\n",
    "        names.append(name.strip())\n",
    "        rating = review.find('span',{'class':'a-icon-alt'}).text\n",
    "        ratings.append(rating)\n",
    "        rating_date = review.find('span',{'data-hook':'review-date'}).text\n",
    "        rating_dates.append(rating_date)\n",
    "        title = review.find('a',{'data-hook':'review-title'}).text\n",
    "        titles.append(title)\n",
    "        review_text = review.find('span',{'data-hook':'review-body'}).text\n",
    "        reviews_text.append(review_text)\n",
    "    url_check = html_data.find('li',{'class':'a-last'})\n",
    "    if url_check == None:\n",
    "       \n",
    "        url = None\n",
    "        \n",
    "    else:\n",
    "        url = 'https://www.amazon.in' + html_data.find('li',{'class':'a-last'}).a['href']\n",
    "    print(url)\n",
    "    "
   ]
  },
  {
   "cell_type": "code",
   "execution_count": 12,
   "id": "ff8640ff-4b1d-4c81-af41-110882b62851",
   "metadata": {},
   "outputs": [],
   "source": [
    "data = pd.DataFrame({'profile_name':names,\n",
    "                    'rating':ratings,\n",
    "                     'rating_date':rating_dates,\n",
    "                     'title':titles,\n",
    "                     'review_text':reviews_text\n",
    "                     })"
   ]
  },
  {
   "cell_type": "code",
   "execution_count": 13,
   "id": "91bce408-e7d3-47d4-9f18-b6f6b76d1bff",
   "metadata": {},
   "outputs": [
    {
     "data": {
      "text/plain": [
       "rating\n",
       "5.0 out of 5 stars    62\n",
       "4.0 out of 5 stars    28\n",
       "3.0 out of 5 stars     8\n",
       "2.0 out of 5 stars     2\n",
       "Name: count, dtype: int64"
      ]
     },
     "execution_count": 13,
     "metadata": {},
     "output_type": "execute_result"
    }
   ],
   "source": [
    "data.rating.value_counts()"
   ]
  },
  {
   "cell_type": "code",
   "execution_count": 14,
   "id": "a6ad169f-d0d4-471d-b508-6ee6b6d3ee3d",
   "metadata": {},
   "outputs": [],
   "source": [
    "data.to_csv('Iphone 15 Amazon Reviews.csv')"
   ]
  },
  {
   "cell_type": "code",
   "execution_count": null,
   "id": "aca9cae2-5983-422f-9e7c-a252e1cce72c",
   "metadata": {},
   "outputs": [],
   "source": []
  }
 ],
 "metadata": {
  "kernelspec": {
   "display_name": "Python 3 (ipykernel)",
   "language": "python",
   "name": "python3"
  },
  "language_info": {
   "codemirror_mode": {
    "name": "ipython",
    "version": 3
   },
   "file_extension": ".py",
   "mimetype": "text/x-python",
   "name": "python",
   "nbconvert_exporter": "python",
   "pygments_lexer": "ipython3",
   "version": "3.11.7"
  }
 },
 "nbformat": 4,
 "nbformat_minor": 5
}
